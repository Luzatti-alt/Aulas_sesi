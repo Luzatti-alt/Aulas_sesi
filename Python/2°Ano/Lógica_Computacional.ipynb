{
  "nbformat": 4,
  "nbformat_minor": 0,
  "metadata": {
    "colab": {
      "provenance": []
    },
    "kernelspec": {
      "name": "python3",
      "display_name": "Python 3"
    },
    "language_info": {
      "name": "python"
    }
  },
  "cells": [
    {
      "cell_type": "code",
      "execution_count": null,
      "metadata": {
        "id": "NX42c-VAoyyz"
      },
      "outputs": [],
      "source": [
        "idade = input(\"Insira sua idade: \")\n",
        "\n",
        "if idade >= 18:\n",
        "  print(\"Acesso Permitido\")\n",
        "else :\n",
        "  print(\"Acesso Negado\")\n",
        "\n",
        "print(\"Obrigado por participar!\")"
      ]
    },
    {
      "cell_type": "code",
      "source": [
        "for num in range(1,11):\n",
        "  print(num)"
      ],
      "metadata": {
        "colab": {
          "base_uri": "https://localhost:8080/"
        },
        "id": "sLlsO_oZqO_Y",
        "outputId": "cc9fc509-8811-49fe-deb0-7654e0f4ac5a"
      },
      "execution_count": null,
      "outputs": [
        {
          "output_type": "stream",
          "name": "stdout",
          "text": [
            "1\n",
            "2\n",
            "3\n",
            "4\n",
            "5\n",
            "6\n",
            "7\n",
            "8\n",
            "9\n",
            "10\n"
          ]
        }
      ]
    },
    {
      "cell_type": "code",
      "source": [
        "\n",
        "frutas = [\"Maçã\", \"Banana\", \"Laranja\", \"Uva\"]\n",
        "\n",
        "for produto in frutas:\n",
        "\tprint(produto)"
      ],
      "metadata": {
        "colab": {
          "base_uri": "https://localhost:8080/"
        },
        "id": "VyumKCKvpkgI",
        "outputId": "1884cc06-6f64-4b78-f63f-ff2606fd6d4b"
      },
      "execution_count": null,
      "outputs": [
        {
          "output_type": "stream",
          "name": "stdout",
          "text": [
            "Maçã\n",
            "Banana\n",
            "Laranja\n",
            "Uva\n"
          ]
        }
      ]
    },
    {
      "cell_type": "code",
      "source": [
        "print(\"Calculador de IMC\")\n",
        "\n",
        "peso = float(input(\"Insira seu Peso: \"))\n",
        "altura = float(input(\"Insira sua Altura: \"))\n",
        "imc = peso / (altura * altura)\n",
        "\n",
        "print(imc)\n",
        "\n",
        "if imc < 18.5:\n",
        "  print(\"Abaixo do Peso\")\n",
        "elif imc >= 18.5 and imc <= 24.9:\n",
        "  print(\"Peso Normal\")\n",
        "elif imc >= 25 and imc <= 29.9:\n",
        "  print(\"Sobrepeso\")\n",
        "elif imc >= 30 and imc <= 34.9:\n",
        "  print(\"Obesidade Classe I\")\n",
        "elif imc >= 35 and imc <= 39.9:\n",
        "  print(\"Obesidade Classe II\")\n",
        "\n",
        "print(\"Obrigado por Participar!\")\n"
      ],
      "metadata": {
        "colab": {
          "base_uri": "https://localhost:8080/"
        },
        "id": "VGy0vEvGrqiq",
        "outputId": "bc799e02-a565-4060-9a24-9391c4158e08"
      },
      "execution_count": null,
      "outputs": [
        {
          "output_type": "stream",
          "name": "stdout",
          "text": [
            "Calculador de IMC\n",
            "Insira seu Peso: 50.8\n",
            "Insira sua Altura: 1.74\n",
            "16.77896683841987\n",
            "Abaixo do Peso\n",
            "Obrigado por Participar!\n"
          ]
        }
      ]
    },
    {
      "cell_type": "code",
      "source": [
        "print(\"Jogo de adivinhação\")\n",
        "\n",
        "import random\n",
        "\n",
        "numero_secreto = random.randint(1,100)\n",
        "\n",
        "palpite = int(input(\"Tente adivinhar o número secreto: \"))\n",
        "\n",
        "while palpite != numero_secreto:\n",
        "  if palpite < numero_secreto:\n",
        "    print(\"Tente um número maior.\")\n",
        "  else:\n",
        "    print(\"Tente um número menor.\")\n",
        "  break\n",
        "\n",
        "palpite = int(input(\"Tente adivinhar o número secreto: \"))\n",
        "\n",
        "print(\"Parabéns! Você acertou o número secreto!\")\n",
        "\n"
      ],
      "metadata": {
        "colab": {
          "base_uri": "https://localhost:8080/"
        },
        "id": "qqGzUEozsvXS",
        "outputId": "5d13f6a7-09b7-4238-8de0-6f80d285d5c6"
      },
      "execution_count": null,
      "outputs": [
        {
          "output_type": "stream",
          "name": "stdout",
          "text": [
            "Jogo de adivinhação\n",
            "Tente adivinhar o número secreto: 34\n",
            "Tente um número maior.\n",
            "Tente adivinhar o número secreto: 89\n",
            "Parabéns! Você acertou o número secreto!\n"
          ]
        }
      ]
    },
    {
      "cell_type": "code",
      "source": [
        "num = input(\"Insira um número inteiro: \")\n",
        "\n",
        "for num in range(int(1),int(num) + 1):\n",
        "  if num % 2 == 0:\n",
        "    print(num)\n",
        "\n"
      ],
      "metadata": {
        "colab": {
          "base_uri": "https://localhost:8080/"
        },
        "id": "VpdTIh2Iupqb",
        "outputId": "35b59e23-7ef6-4d1f-9729-3f5d221c08a9"
      },
      "execution_count": null,
      "outputs": [
        {
          "output_type": "stream",
          "name": "stdout",
          "text": [
            "Insira um número inteiro: 6\n",
            "2\n",
            "4\n",
            "6\n"
          ]
        }
      ]
    },
    {
      "cell_type": "code",
      "source": [
        "print(\"PEDRA PAPEL E TESOURA\")\n",
        "\n",
        "opcoes = [\"pedra\", \"papel\", \"tesoura\"]\n",
        "\n",
        "import random\n",
        "\n",
        "computador = random.choice(opcoes)\n",
        "\n",
        "jogador = input(\"Escolha pedra, papel ou tesoura: \")\n",
        "\n",
        "print(\"O computador escolheu: \", computador)\n",
        "\n",
        "if jogador == computador:\n",
        "  print(\"Empate!\")\n",
        "\n",
        "if jogador == \"pedra\" and computador == \"tesoura\":\n",
        "  print(\"Você venceu!\")\n",
        "\n",
        "if jogador == \"papel\" and computador == \"pedra\":\n",
        "  print(\"Você venceu!\")\n",
        "\n",
        "if jogador == \"tesoura\" and computador == \"papel\":\n",
        "  print(\"Você venceu!\")\n",
        "\n",
        "if jogador == \"pedra\" and computador == \"papel\":\n",
        "  print(\"Você perdeu!\")\n",
        "\n",
        "if jogador == \"papel\" and computador == \"tesoura\":\n",
        "  print(\"Você perdeu!\")\n",
        "\n",
        "if jogador == \"tesoura\" and computador == \"pedra\":\n",
        "  print(\"Você perdeu!\")\n"
      ],
      "metadata": {
        "colab": {
          "base_uri": "https://localhost:8080/"
        },
        "id": "ro7rUlB0viOi",
        "outputId": "1eb36a62-4189-43a5-8a2f-7fed7ab203f6"
      },
      "execution_count": null,
      "outputs": [
        {
          "output_type": "stream",
          "name": "stdout",
          "text": [
            "PEDRA PAPEL E TESOURA\n",
            "Escolha pedra, papel ou tesoura: tesoura\n",
            "O computador escolheu:  papel\n",
            "Você venceu!\n"
          ]
        }
      ]
    }
  ]
}
