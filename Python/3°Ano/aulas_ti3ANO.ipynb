{
  "nbformat": 4,
  "nbformat_minor": 0,
  "metadata": {
    "colab": {
      "provenance": []
    },
    "kernelspec": {
      "name": "python3",
      "display_name": "Python 3"
    },
    "language_info": {
      "name": "python"
    }
  },
  "cells": [
    {
      "cell_type": "code",
      "execution_count": null,
      "metadata": {
        "colab": {
          "base_uri": "https://localhost:8080/"
        },
        "id": "GbZlpK0mgt7K",
        "outputId": "9fec1283-e563-4a80-8b96-9d0447ae4bb8"
      },
      "outputs": [
        {
          "output_type": "stream",
          "name": "stdout",
          "text": [
            "digite seu sinal para o claculo(o sinal+-*/): /\n",
            "digite um número: 10\n",
            "digite outro número: 10\n",
            "sua resposta é:  1.0\n"
          ]
        }
      ],
      "source": [
        "sinal = input(\"digite seu sinal para o claculo(o sinal+-*/): \")\n",
        "n1 = float(input(\"digite um número: \"))\n",
        "n2 = float(input(\"digite outro número: \"))\n",
        "if sinal == \"+\":\n",
        "  res = (n1+n2)\n",
        "  print(\"sua resposta é: \",(res))\n",
        "elif sinal == \"-\":\n",
        "  res = (n1-n2)\n",
        "  print(\"sua resposta é: \",(res))\n",
        "elif sinal == \"*\":\n",
        "  res = (n1*n2)\n",
        "  print(\"sua resposta é: \",(res))\n",
        "elif sinal == \"/\":\n",
        "  res = (n1/n2)\n",
        "  print(\"sua resposta é: \",(res))"
      ]
    },
    {
      "cell_type": "code",
      "source": [
        "senha=str(1234)\n",
        "senha_adv = str(input(\"digite sua senha: \"))\n",
        "if senha_adv == senha:\n",
        "  print(\"logado\")\n",
        "else:\n",
        "  print(\"acesso negado\")"
      ],
      "metadata": {
        "colab": {
          "base_uri": "https://localhost:8080/"
        },
        "id": "jdQGwTBdjga_",
        "outputId": "ed0d0d3a-3121-4fec-b1da-61a1c7d50be6"
      },
      "execution_count": null,
      "outputs": [
        {
          "output_type": "stream",
          "name": "stdout",
          "text": [
            "digite sua senha: 12\n",
            "acesso negado\n"
          ]
        }
      ]
    },
    {
      "cell_type": "code",
      "source": [
        "kg = input(\"digite sua massa(unt): \")\n",
        "h = input(\"digite sua altura(m): \")\n",
        "h2 = float(h)*float(h)\n",
        "imc = float(kg)/h2\n",
        "print(\"seu IMC é: \", imc)\n",
        "if imc <= 18.5:\n",
        "  print('abaixo do peso') #até aqui ok\n",
        "elif imc >= 40:\n",
        "  print('obesidade III')\n",
        "elif imc >= 39.9:\n",
        "  print('obesidade II')\n",
        "elif imc >= 34.9:\n",
        "  print('obesidade I')\n",
        "elif imc >= 29.9:\n",
        "  print('excesso de peso')\n",
        "elif imc >= 24.9:\n",
        "  print('peso normal')"
      ],
      "metadata": {
        "colab": {
          "base_uri": "https://localhost:8080/"
        },
        "id": "JZyG-VoWlvNn",
        "outputId": "b21febb5-2b55-4e8c-9480-edf576d1aa36"
      },
      "execution_count": null,
      "outputs": [
        {
          "output_type": "stream",
          "name": "stdout",
          "text": [
            "digite sua massa(unt): 180\n",
            "digite sua altura(m): 180\n",
            "seu IMC é:  0.005555555555555556\n",
            "abaixo do peso\n"
          ]
        }
      ]
    },
    {
      "cell_type": "code",
      "source": [
        "User = \"admin\"\n",
        "User_adv = str(input(\"digite seu usuario: \"))\n",
        "senha= \"senha1234\"\n",
        "if User_adv == User:\n",
        "  senha_adv = str(input(\"digite sua senha: \"))\n",
        "  if senha_adv == senha:\n",
        "    print(\"logado\")\n",
        "  else:\n",
        "    print(\"acesso negado\")\n",
        "else:\n",
        "  print(\"acesso negado\")"
      ],
      "metadata": {
        "colab": {
          "base_uri": "https://localhost:8080/"
        },
        "id": "wi-3AQCNobc9",
        "outputId": "5ce224a8-4245-4969-f66b-1da8b018e607"
      },
      "execution_count": null,
      "outputs": [
        {
          "output_type": "stream",
          "name": "stdout",
          "text": [
            "digite seu usuario: admin\n",
            "digite sua senha: senha1234\n",
            "logado\n"
          ]
        }
      ]
    }
  ]
}