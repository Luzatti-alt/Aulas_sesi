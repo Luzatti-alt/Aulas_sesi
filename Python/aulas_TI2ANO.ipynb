{
  "cells": [
    {
      "cell_type": "markdown",
      "source": [
        "# Anotações:"
      ],
      "metadata": {
        "id": "_RAsxV-LCicz"
      }
    },
    {
      "cell_type": "markdown",
      "source": [
        "* Dir()\n",
        "* Help()\n",
        "* Ajudam a localizar funções pro código\n",
        "\n",
        " 1. conteudo bruto do que estamos vendo, ex:print, input, if, else, while etc.\n",
        " 2. Textos/anotações que nn são pro codigo funcionar vão ficar aqui os que serão para o codigo funcionar estarão no codigo.\n",
        " 3. Para ver/indentificar variavel tipo e valor no seguinte icone → {x} (icone)\n",
        " 4. No icone da pasta tem um sistema de diretorio parecido com o do android studio.\n",
        " 5. O icone chave é \"Secrets\" def: armazena variáveis de ambiente,\n",
        "caminhos de arquivos ou chaves para configurar o código.\n",
        " 6. Os valores armazenados aqui são particulares e visíveis apenas para você e os notebooks escolhidos. O nome da chave secret não pode ter espaços.\n",
        " 7. lembrando que em python o // nn funciona para comentar o codigo e tem um botão comentario tbm.\n",
        " 8. Para poder acessar o terminar pelo botão com simbolo, precisa pagar D:\n",
        " 9. ctrl+ M H ve atalhos do teclado"
      ],
      "metadata": {
        "id": "IXmdK2_wDnOC"
      }
    },
    {
      "cell_type": "markdown",
      "metadata": {
        "id": "DWG6-Z_NpdUm"
      },
      "source": [
        "## sites:"
      ]
    },
    {
      "cell_type": "markdown",
      "source": [
        "* Vs code: https://code.visualstudio.com/download"
      ],
      "metadata": {
        "id": "44RQijfCBGD_"
      }
    },
    {
      "cell_type": "markdown",
      "metadata": {
        "id": "DPXTWvWLtuJ4"
      },
      "source": [
        "* python: https://www.python.org/"
      ]
    },
    {
      "cell_type": "markdown",
      "metadata": {
        "id": "Ysga7OIApg9K"
      },
      "source": [
        "* colab professor Giovani: https://colab.research.google.com/drive/1A7L3Ozt3qcEQ4aPAxf3tDrcEdyhDoKxG?usp=sharing"
      ]
    },
    {
      "cell_type": "markdown",
      "metadata": {
        "id": "Swm1Jcqut1YX"
      },
      "source": [
        "* sites para encontrar atvs/desafios: https://wiki.python.org.br/ListaDeExercicios"
      ]
    },
    {
      "cell_type": "markdown",
      "source": [
        "* site p/perquisa p/py: https://www.w3schools.com/python/default.asp"
      ],
      "metadata": {
        "id": "Ll5nFJqx11ml"
      }
    },
    {
      "cell_type": "markdown",
      "source": [
        "##Outros projetos em p feitos no Google Colab & por mim já completados:"
      ],
      "metadata": {
        "id": "2_XJ-kIEAGg2"
      }
    },
    {
      "cell_type": "markdown",
      "source": [
        "* encriptação e descriptação(SEM crifa ALEATÓRIA): https://colab.research.google.com/drive/1_rWOSBhagJvXQRyq3zSxhgu4n0EOlyuu?usp=sharing"
      ],
      "metadata": {
        "id": "M_-Q_DSsANJh"
      }
    },
    {
      "cell_type": "markdown",
      "source": [
        "## metas de aprendizado(geral):"
      ],
      "metadata": {
        "id": "gwLkwlRWDuAs"
      }
    },
    {
      "cell_type": "markdown",
      "source": [
        "* VIM (se for mais eficientepara codar quando/se eu usar, dai eu ativo no Google Colab)\n",
        "* Linux e seus diretorios"
      ],
      "metadata": {
        "id": "T4ZghxPDD1Hz"
      }
    },
    {
      "cell_type": "markdown",
      "metadata": {
        "id": "gMzN6e96k6uA"
      },
      "source": [
        "#AULAS (separada por conteúdos)"
      ]
    },
    {
      "cell_type": "markdown",
      "metadata": {
        "id": "GWuIxK2ylEV6"
      },
      "source": [
        "## Conteúdo 1: Entrada e saida de dados"
      ]
    },
    {
      "cell_type": "markdown",
      "metadata": {
        "id": "oCdNOr2PlXm0"
      },
      "source": [
        "1. comandos:\n",
        " * print\n",
        " * input\n",
        "2. comandos de conversão de dados:\n",
        " * float() decimais ex: 1,0\n",
        " * int() inteiros ex: 1\n",
        " * str()\n",
        " * bool()"
      ]
    },
    {
      "cell_type": "code",
      "execution_count": null,
      "metadata": {
        "id": "uSuUBeNueKAD"
      },
      "outputs": [],
      "source": [
        "print(\"apartir daqui e conteudo da aula\")# f utiliza o valor da variavel f() define uma str\n",
        "nome = input(\"digite o seu nome: \")\n",
        "print(\"bem-vindo:\",(nome)) #ou print(\" \") a#print(\"bem-vindo \"+nome) #que tbm funciona so tem que adicionar um espaço no final\n",
        "#relembrando para usar input devemos definir ex: variavel = \"batata\"; print(variavel) printa batata se fosse um input a str batata mudaria para o dado colocado"
      ]
    },
    {
      "cell_type": "markdown",
      "metadata": {
        "id": "WCze3ZcDo3va"
      },
      "source": [
        "faça uma soma de dois numeros"
      ]
    },
    {
      "cell_type": "code",
      "execution_count": null,
      "metadata": {
        "id": "4wg6o7Apejzf"
      },
      "outputs": [],
      "source": [
        "n1 = input(\"digite um número: \")\n",
        "n2 = input(\"digite outro número: \")\n",
        "soma = float(n1) + float(n2)\n",
        "#int = números interos #float = números quebrados\n",
        "print(\"a soma é:\",(soma))\n",
        "#t1 = n1 + n2 #print(t1) junta n1 com n2"
      ]
    },
    {
      "cell_type": "markdown",
      "metadata": {
        "id": "3KsH74QRox2Z"
      },
      "source": [
        "faça uma calculadora de média bimestral"
      ]
    },
    {
      "cell_type": "code",
      "execution_count": null,
      "metadata": {
        "id": "0zo0lBJzvcte"
      },
      "outputs": [],
      "source": [
        "n1 = input(\"digite sua nota do 1° trimestre: \")\n",
        "n2 = input(\"digite sua nota do 2° trimestre: \")\n",
        "n3 = input(\"digite sua nota do 3° trimestre: \")\n",
        "n4 = input(\"digite sua nota do 4° trimestre: \")\n",
        "media = (float(n1) + float(n2) + float(n3) + float(n4))/4\n",
        "print(\"\")#parte visual\n",
        "print(\"sua média é: \",(media))"
      ]
    },
    {
      "cell_type": "markdown",
      "metadata": {
        "id": "XpprM3FWlJ1F"
      },
      "source": [
        "## Conteúdo 2: Estruturas de condições(if,else,elif,while...)"
      ]
    },
    {
      "cell_type": "markdown",
      "metadata": {
        "id": "7wzv6GucllrB"
      },
      "source": [
        "1. estruturas/comandos:\n",
        "  * if\n",
        "  * else (não pode estar dentro do if )\n",
        "  * elif\n",
        "* podem ser consideradas como condições para gerar repetição:\n",
        "  * while\n",
        "  * for\n",
        "2. simbolos:\n",
        " * \"<\" maior\n",
        " * \">\" menor\n",
        " * \"!=\" diferente\n",
        " * \"==\" igual"
      ]
    },
    {
      "cell_type": "code",
      "execution_count": null,
      "metadata": {
        "id": "XCMfVPRIF1_e"
      },
      "outputs": [],
      "source": [
        "n1 = input(\"digite sua nota do 1° trimestre: \")\n",
        "n2 = input(\"digite sua nota do 2° trimestre: \")\n",
        "n3 = input(\"digite sua nota do 3° trimestre: \")\n",
        "n4 = input(\"digite sua nota do 4° trimestre: \")\n",
        "media = (float(n1) + float(n2) + float(n3) + float(n4))/\n",
        "if media > 6.9:\n",
        "    print(\"Você está aprovado e sua media anual é:\",(media))\n",
        "else:\n",
        "    print(\"Você está reprovado e sua media anual é:\",(media))"
      ]
    },
    {
      "cell_type": "markdown",
      "metadata": {
        "id": "lG3veWdgnwyA"
      },
      "source": [
        "* faça um comparador de numeros"
      ]
    },
    {
      "cell_type": "code",
      "execution_count": null,
      "metadata": {
        "id": "Xuuq4oSJn0q1"
      },
      "outputs": [],
      "source": [
        "n1 = int(input(\"digite um número: \"))\n",
        "n2 = int(input(\"digite outro número: \"))\n",
        "if n1 > n2:\n",
        "  print((n1),\">\",(n2))\n",
        "if n2 > n1:\n",
        "    print((n1),\"<\",(n2))"
      ]
    },
    {
      "cell_type": "markdown",
      "metadata": {
        "id": "3_SQk6zr7WXj"
      },
      "source": [
        "* comparador de três números"
      ]
    },
    {
      "cell_type": "code",
      "execution_count": null,
      "metadata": {
        "id": "PpYgpUAj7Woz"
      },
      "outputs": [],
      "source": [
        "n1 = int(input(\"digite um número: \"))\n",
        "n2 = int(input(\"digite outro número: \"))\n",
        "n3 = int(input(\"digite mais um número: \"))\n",
        "if n1 > n2 > n3:\n",
        "  print((n1),\">\",(n2),\">\",(n3))\n",
        "if n1 < n2 > n3:\n",
        "  print((n1),\"<\",(n2),\">\",(n3))\n",
        "if n1 > n2 < n3:\n",
        "  print((n1),\">\",(n2),\"<\",(n3))\n",
        "if n1 < n2 < n3:\n",
        "  print((n1),\"<\",(n2),\"<\",(n3))"
      ]
    },
    {
      "cell_type": "markdown",
      "metadata": {
        "id": "39ilATn6nVB3"
      },
      "source": [
        "###Atividade do teste de mesa para código."
      ]
    },
    {
      "cell_type": "markdown",
      "metadata": {
        "id": "Rnh79hkinj3t"
      },
      "source": [
        "1)"
      ]
    },
    {
      "cell_type": "code",
      "execution_count": null,
      "metadata": {
        "id": "LMgAd0RMf1Mf",
        "colab": {
          "base_uri": "https://localhost:8080/"
        },
        "outputId": "a2004513-d08e-48b9-9a6f-c1872bdf588e"
      },
      "outputs": [
        {
          "output_type": "stream",
          "name": "stdout",
          "text": [
            "digite um lado: 1\n",
            "digite um segundo lado: 2\n",
            "digite um terceiro lado: 3\n",
            "escaleno, três lados diferentes\n"
          ]
        }
      ],
      "source": [
        "#Testes de mesas:\n",
        "L1 = input(\"digite um lado: \")\n",
        "L2 = input(\"digite um segundo lado: \")\n",
        "L3 = input(\"digite um terceiro lado: \")\n",
        "if L1 == L2 and L2 == L3:\n",
        " print(\"equilátero, todos os lados são iguais\")\n",
        "elif L1 < L2 or L1 > L2 and L2 > L3 or L3 < L2:\n",
        " print(\"escaleno, três lados diferentes\")\n",
        "else:\n",
        " print(\"isósceles, dois lados iguais\")"
      ]
    },
    {
      "cell_type": "markdown",
      "metadata": {
        "id": "Q3_bLsWxng3S"
      },
      "source": [
        "2)"
      ]
    },
    {
      "cell_type": "code",
      "execution_count": null,
      "metadata": {
        "id": "8kg0jbOiiyhX",
        "colab": {
          "base_uri": "https://localhost:8080/"
        },
        "outputId": "a2027ec7-206d-411c-c1ec-3228272ae4f1"
      },
      "outputs": [
        {
          "output_type": "stream",
          "name": "stdout",
          "text": [
            "Telefonou para a vítima? s\n",
            "Esteve no local do crime? s\n",
            "Mora perto da vítima? s\n",
            "Devia para a vítima? s\n",
            "já trabalhou com a vítima? n\n",
            "Cúmplice\n"
          ]
        }
      ],
      "source": [
        "R1 = 0\n",
        "R2 = 0\n",
        "R3 = 0\n",
        "R4 = 0\n",
        "R5 = 0\n",
        "P1 = input(\"Telefonou para a vítima? \")\n",
        "P2 = input(\"Esteve no local do crime? \")\n",
        "P3 = input(\"Mora perto da vítima? \")\n",
        "P4 = input(\"Devia para a vítima? \")\n",
        "P5 = input(\"já trabalhou com a vítima? \")\n",
        "if P1 in[\"Sim\", \"S\", \"sim\", \"SIM\", \"s\"]:\n",
        " R1 = 1\n",
        "if P2 in[\"Sim\", \"S\", \"sim\", \"SIM\", \"s\"]:\n",
        " R2 = 1\n",
        "if P3 in[\"Sim\", \"S\", \"sim\", \"SIM\", \"s\"]:\n",
        " R3 = 1\n",
        "if P4 in[\"Sim\", \"S\", \"sim\", \"SIM\", \"s\"]:\n",
        " R4 = 1\n",
        "if P5 in[\"Sim\", \"S\", \"sim\", \"SIM\", \"s\"]:\n",
        " R5 = 1\n",
        "total = int(R1) + int(R2) + int(R3) + int(R4) + int(R5)\n",
        "if total == 2:\n",
        " print(\"Suspeito\")\n",
        "elif total == 3 or total == 4:\n",
        " print(\"Cúmplice\")\n",
        "elif total == 5:\n",
        " print(\"Assasino\")\n",
        "else:\n",
        " print(\"inocente\")"
      ]
    },
    {
      "cell_type": "markdown",
      "metadata": {
        "id": "j8mMInFknoFF"
      },
      "source": [
        "3)"
      ]
    },
    {
      "cell_type": "code",
      "execution_count": null,
      "metadata": {
        "id": "oO6rrojanpva"
      },
      "outputs": [],
      "source": [
        "n1 = input(\"digite sua nota do 1° trimestre: \")\n",
        "n2 = input(\"digite sua nota do 2° trimestre: \")\n",
        "n3 = input(\"digite sua nota do 3° trimestre: \")\n",
        "n4 = input(\"digite sua nota do 4° trimestre: \")\n",
        "media = (float(n1) + float(n2) + float(n3) + float(n4))/4\n",
        "print(\"\")#parte visual\n",
        "print(\"sua média é: \",(media))"
      ]
    },
    {
      "cell_type": "markdown",
      "metadata": {
        "id": "G38CMoefny8I"
      },
      "source": [
        "4)"
      ]
    },
    {
      "cell_type": "code",
      "execution_count": null,
      "metadata": {
        "id": "aMT2iAmfn0DK",
        "colab": {
          "base_uri": "https://localhost:8080/"
        },
        "outputId": "7250cf6f-972e-492e-891c-7d065fa0ae70"
      },
      "outputs": [
        {
          "output_type": "stream",
          "name": "stdout",
          "text": [
            "Digite seu usuário: aaa\n",
            "Digite sua senha: aaa\n",
            "Usuário e senha são iguais. Tente novamente:\n",
            "Digite seu usuário: ffr\n",
            "Digite sua senha: hgdfs\n",
            "Acesso garantido!\n"
          ]
        }
      ],
      "source": [
        "User = str(input(\"Digite seu usuário: \"))\n",
        "Senha = str(input(\"Digite sua senha: \"))\n",
        "while User == Senha:\n",
        "    print(\"Usuário e senha são iguais. Tente novamente:\")\n",
        "    User = str(input(\"Digite seu usuário: \"))\n",
        "    Senha = str(input(\"Digite sua senha: \"))\n",
        "print(\"Acesso garantido!\")"
      ]
    },
    {
      "cell_type": "markdown",
      "metadata": {
        "id": "VjovCx97n0V9"
      },
      "source": [
        "5)"
      ]
    },
    {
      "cell_type": "code",
      "execution_count": null,
      "metadata": {
        "id": "XZzJfUz3n2Ef",
        "colab": {
          "base_uri": "https://localhost:8080/"
        },
        "outputId": "bccfd5ae-f530-44ad-c770-df79ce5494af"
      },
      "outputs": [
        {
          "output_type": "stream",
          "name": "stdout",
          "text": [
            "digite um número: 0\n",
            "digite outro número: 9\n",
            "1\n",
            "2\n",
            "3\n",
            "4\n",
            "5\n",
            "6\n",
            "7\n",
            "8\n"
          ]
        }
      ],
      "source": [
        "N1 = int(input(\"digite um número: \"))\n",
        "N2 = int(input(\"digite outro número: \"))\n",
        "for i in range(N1 + int(1), N2):\n",
        " print(i)"
      ]
    },
    {
      "cell_type": "markdown",
      "metadata": {
        "id": "meTYGDOXsZLC"
      },
      "source": [
        "## Conteúdo 3: Vetores e matrizes"
      ]
    },
    {
      "cell_type": "markdown",
      "metadata": {
        "id": "1MvLmsQ4sjQ0"
      },
      "source": [
        "1. vetores/array em python são listas(o 1° item é 0, o 2° item é 1, o 3° item é 2  [...])\n",
        "2. matrizes em python são tuples(conjunto de listas(o 1° item/lista é 0, o 2° item/lista é 1, o 3° item/lista é 2  [...]))\n",
        "3. comandos:\n",
        "* []: serve para listas* () serve para tuples\n",
        "* {} Serve para sets\n",
        "* append(): adiciona itens no fim da lista\n",
        "* clear():  limpa a lista/apaga seus dados\n",
        "* copy():   faz uma copía da lista\n",
        "* count():  Returna o número de elementos com um valor específico\n",
        "* extend(): adiciona um elemento na lista(ou int), localizado no fim da lista\n",
        "* index():  Returna o index do primeito elemento com um valor específico\n",
        "* insert(): Adiciona um elemento em uma posição específica\n",
        "* pop():    Remove um elemento em uma posição específica\n",
        "* remove(): remove um item da lista\n",
        "* reverse():    inverte a lista\n",
        "* sort(): organiza a lista\n",
        "*Len(): vê o tamanho da lista"
      ]
    },
    {
      "cell_type": "code",
      "execution_count": null,
      "metadata": {
        "id": "N3kOHz-WvD0H"
      },
      "outputs": [],
      "source": [
        "#exemplo de vetor\n",
        "lista = [\"dia\",\"noite\", \"1\" , \"2\"]\n",
        "print(lista)"
      ]
    },
    {
      "cell_type": "markdown",
      "metadata": {
        "id": "jaCCEhQiysNA"
      },
      "source": [
        "* selecionar parte expecifica da lista\n",
        "* Tem que ser variavel[n] para dar certo n-> posição"
      ]
    },
    {
      "cell_type": "code",
      "execution_count": null,
      "metadata": {
        "id": "Bo-LT5qsyshJ",
        "colab": {
          "base_uri": "https://localhost:8080/"
        },
        "outputId": "5faff6ee-92fb-454e-9352-a78245593790"
      },
      "outputs": [
        {
          "output_type": "stream",
          "name": "stdout",
          "text": [
            "Alguns itens da lista 1 e 2: 1 90 9 69\n"
          ]
        }
      ],
      "source": [
        "lista1 = [\"1\",\"2\",\"6\",\"9\"]\n",
        "lista2 = [\"10\",\"21\",\"69\",\"90\"]\n",
        "print(\"Alguns itens da lista 1 e 2:\", lista1 [0],lista2[3], lista1[3], lista2[2])\n",
        "#os numeros soltos vai sair o número colocado no print e não o item da lista.\n",
        "#ex: print(\"itens da lista 1:\", lista1 [0],lista2[3], 2, 3, 9, 0)"
      ]
    },
    {
      "cell_type": "markdown",
      "metadata": {
        "id": "DhcIlezT1zNn"
      },
      "source": [
        "* Tuples"
      ]
    },
    {
      "cell_type": "code",
      "execution_count": null,
      "metadata": {
        "id": "oaDWIo7T13mQ",
        "colab": {
          "base_uri": "https://localhost:8080/"
        },
        "outputId": "751ba8be-f3e3-4d6e-8ba1-3158a4999c36"
      },
      "outputs": [
        {
          "output_type": "stream",
          "name": "stdout",
          "text": [
            "(['1', '2', '3'], ['4', '5', '6'], ['7', '8', '9'])\n"
          ]
        }
      ],
      "source": [
        "lista1 = [\"1\",\"2\",\"3\"]\n",
        "lista2 = [\"4\",\"5\",\"6\",]\n",
        "lista3 = [\"7\",\"8\",\"9\",]\n",
        "mtz = (lista1, lista2, lista3)\n",
        "print(mtz)"
      ]
    },
    {
      "cell_type": "markdown",
      "metadata": {
        "id": "xzGML6VP2aQv"
      },
      "source": [
        "Selecionando itens dentro de uma matriz:"
      ]
    },
    {
      "cell_type": "code",
      "execution_count": null,
      "metadata": {
        "id": "9hTeG0Ee2odv",
        "colab": {
          "base_uri": "https://localhost:8080/"
        },
        "outputId": "89ee83f7-08d9-41d3-a596-43db65a59fdc"
      },
      "outputs": [
        {
          "output_type": "stream",
          "name": "stdout",
          "text": [
            "1 6 9\n"
          ]
        }
      ],
      "source": [
        "lista1 = [\"1\",\"2\",\"3\"]\n",
        "lista2 = [\"4\",\"5\",\"6\",]\n",
        "lista3 = [\"7\",\"8\",\"9\",]\n",
        "mtz = [lista1, lista2, lista3]\n",
        "print(mtz[0][0], mtz[1][2], mtz[2][2])\n",
        "# LEMBRE QUE COMEÇA O ITEM 1 COLUNA 1 EQUIVALE A (0,0) INVEZ DE (1,1); ITEM 1 COLUNA 2 (0,1) ETC..."
      ]
    },
    {
      "cell_type": "markdown",
      "metadata": {
        "id": "mgnSKj_RBUy3"
      },
      "source": [
        "## Conteúdo 4: Estruturas de repetição"
      ]
    },
    {
      "cell_type": "markdown",
      "metadata": {
        "id": "l29TTL_6Bdbe"
      },
      "source": [
        "Iterar = repetir ///// LEMBRANDO QUE É DIFERENTE DE INTERAGIR /////\n",
        " * comandos:\n",
        "* while\n",
        "* for\n",
        "* loop\n",
        "* break"
      ]
    },
    {
      "cell_type": "code",
      "execution_count": null,
      "metadata": {
        "id": "jryaUXOIBTk0",
        "colab": {
          "base_uri": "https://localhost:8080/"
        },
        "outputId": "4023a092-40e6-48e7-b40f-55796b0d724d"
      },
      "outputs": [
        {
          "output_type": "stream",
          "name": "stdout",
          "text": [
            "5\n",
            "4\n",
            "3\n",
            "2\n",
            "1\n",
            "Boom!!!!\n"
          ]
        }
      ],
      "source": [
        "x = 6\n",
        "while x > 1:\n",
        "  x -= 1\n",
        "  print(x)\n",
        "print(\"Boom!!!!\")"
      ]
    },
    {
      "cell_type": "code",
      "execution_count": null,
      "metadata": {
        "colab": {
          "base_uri": "https://localhost:8080/"
        },
        "outputId": "2bab8f1d-a20b-41da-da7d-b8090f535ab0",
        "id": "fu5b8NBCEON4"
      },
      "outputs": [
        {
          "output_type": "stream",
          "name": "stdout",
          "text": [
            "1\n",
            "2\n",
            "3\n",
            "4\n",
            "5\n",
            "Boom!!!!\n"
          ]
        }
      ],
      "source": [
        "x = 0\n",
        "while x < 5:\n",
        "  x += 1\n",
        "  print(x)\n",
        "print(\"Boom!!!!\")"
      ]
    },
    {
      "cell_type": "code",
      "source": [
        "num = int(input(\"digite um número: \"))\n",
        "while (num != 0):\n",
        "  print(\"você digitou: \", num)\n",
        "  num = int(input(\"digite o número ZERO para parar: \"))\n",
        "print(\"fim do programa!\")"
      ],
      "metadata": {
        "colab": {
          "base_uri": "https://localhost:8080/"
        },
        "id": "ebv2C0rmKqnF",
        "outputId": "d1b9bcc3-2de3-4a0d-c1f7-6ea43292d2cc"
      },
      "execution_count": null,
      "outputs": [
        {
          "output_type": "stream",
          "name": "stdout",
          "text": [
            "digite um número: 1\n",
            "você digitou:  1\n",
            "digite o número ZERO para parar: 1\n",
            "você digitou:  1\n",
            "digite o número ZERO para parar: 0\n",
            "fim do programa!\n"
          ]
        }
      ]
    },
    {
      "cell_type": "markdown",
      "source": [
        "###exercicios python:"
      ],
      "metadata": {
        "id": "uTdvrBcIjQ7z"
      }
    },
    {
      "cell_type": "markdown",
      "source": [
        "* 1) maior ou menor de idade"
      ],
      "metadata": {
        "id": "zzLbbHzRjZYK"
      }
    },
    {
      "cell_type": "code",
      "source": [
        "idade = int(input(\"qual é a sua idade: \"))\n",
        "if idade >= 18:\n",
        "  print(\"Maior de idade!\")\n",
        "else:\n",
        "  print(\"menor de idade!\")"
      ],
      "metadata": {
        "colab": {
          "base_uri": "https://localhost:8080/"
        },
        "id": "EtQ3-2PmjdDB",
        "outputId": "6886679d-ebb4-4063-f650-a83daf0a8ef7"
      },
      "execution_count": null,
      "outputs": [
        {
          "output_type": "stream",
          "name": "stdout",
          "text": [
            "qual é a sua idade: 88\n",
            "Maior de idade!\n"
          ]
        }
      ]
    },
    {
      "cell_type": "markdown",
      "source": [
        "* 2) 1 a 10 usando for"
      ],
      "metadata": {
        "id": "KKqVKRNvjbhb"
      }
    },
    {
      "cell_type": "code",
      "source": [
        "for i in range(1,11):\n",
        " print(i)\n",
        " int(i) + 1"
      ],
      "metadata": {
        "colab": {
          "base_uri": "https://localhost:8080/"
        },
        "id": "1JKTzPUpjbWr",
        "outputId": "f741978e-45f9-488d-81f5-6693db52591f"
      },
      "execution_count": null,
      "outputs": [
        {
          "output_type": "stream",
          "name": "stdout",
          "text": [
            "1\n",
            "2\n",
            "3\n",
            "4\n",
            "5\n",
            "6\n",
            "7\n",
            "8\n",
            "9\n",
            "10\n"
          ]
        }
      ]
    },
    {
      "cell_type": "markdown",
      "source": [
        "* 3) imprima cada fruta utilize for"
      ],
      "metadata": {
        "id": "jyMvw0rIjeSJ"
      }
    },
    {
      "cell_type": "code",
      "source": [
        "frutas = ['maçã','banana','laranja','uva']\n",
        "for itens in range(0,4):\n",
        "  print(frutas[itens])\n",
        "  int(itens) + 1"
      ],
      "metadata": {
        "colab": {
          "base_uri": "https://localhost:8080/"
        },
        "id": "8gl_QzQLjfVp",
        "outputId": "52eea587-8f03-40b2-9f27-362f46535e93"
      },
      "execution_count": null,
      "outputs": [
        {
          "output_type": "stream",
          "name": "stdout",
          "text": [
            "maçã\n",
            "banana\n",
            "laranja\n",
            "uva\n"
          ]
        }
      ]
    },
    {
      "cell_type": "markdown",
      "source": [
        "* 4) calcular IMC"
      ],
      "metadata": {
        "id": "QSzhSX8yjft9"
      }
    },
    {
      "cell_type": "code",
      "source": [
        "kg = input(\"digite sua massa(unt): \")\n",
        "h = input(\"digite sua altura(m): \")\n",
        "h2 = float(h)*float(h)\n",
        "imc = float(kg)/h2\n",
        "print(\"seu IMC é: \", imc)\n",
        "if imc <= 18.5:\n",
        "  print('abaixo do peso') #até aqui ok\n",
        "elif imc >= 40:\n",
        "  print('obesidade III')\n",
        "elif imc >= 39.9:\n",
        "  print('obesidade II')\n",
        "elif imc >= 34.9:\n",
        "  print('obesidade I')\n",
        "elif imc >= 29.9:\n",
        "  print('excesso de peso')\n",
        "elif imc >= 24.9:\n",
        "  print('peso normal')"
      ],
      "metadata": {
        "colab": {
          "base_uri": "https://localhost:8080/"
        },
        "id": "DN3haFqajhNp",
        "outputId": "f17541a9-7ce2-405b-cea4-7328f6de61aa"
      },
      "execution_count": null,
      "outputs": [
        {
          "output_type": "stream",
          "name": "stdout",
          "text": [
            "digite sua massa(unt): 50\n",
            "digite sua altura(m): 160\n",
            "seu IMC é:  0.001953125\n",
            "abaixo do peso\n"
          ]
        }
      ]
    },
    {
      "cell_type": "markdown",
      "source": [
        "* 5) utilizando random"
      ],
      "metadata": {
        "id": "mGDb-4p9jh3M"
      }
    },
    {
      "cell_type": "code",
      "source": [
        "import random\n",
        "tenta = int(input(\"tente adivinhar um número: \"))\n",
        "num_secreto = random.randint(1,100)\n",
        "while tenta != num_secreto:\n",
        "  if tenta >= num_secreto:\n",
        "    print(\"seu número deve ser menor\")\n",
        "    tenta = int(input(\"tente adivinhar um número: \"))\n",
        "  elif tenta <= num_secreto:\n",
        "    print(\"seu número deve ser maior\")\n",
        "    tenta = int(input(\"tente adivinhar um número: \"))\n",
        "if tenta == num_secreto:\n",
        "   print(\"Você acertou!\")\n",
        "   print(\"O número aleatorio é: \",num_secreto)"
      ],
      "metadata": {
        "colab": {
          "base_uri": "https://localhost:8080/"
        },
        "id": "H7gXLvQCjjIb",
        "outputId": "5422eee2-21b3-43d9-e28a-b7d0bcea9d17"
      },
      "execution_count": null,
      "outputs": [
        {
          "output_type": "stream",
          "name": "stdout",
          "text": [
            "tente adivinhar um número: 50\n",
            "seu número deve ser maior\n",
            "tente adivinhar um número: 70\n",
            "seu número deve ser maior\n",
            "tente adivinhar um número: 90\n",
            "seu número deve ser menor\n",
            "tente adivinhar um número: 80\n",
            "seu número deve ser menor\n",
            "tente adivinhar um número: 75\n",
            "seu número deve ser maior\n",
            "tente adivinhar um número: 78\n",
            "Você acertou!\n",
            "O número aleatorio é:  78\n"
          ]
        }
      ]
    },
    {
      "cell_type": "markdown",
      "source": [
        "* 6) 10 números e ve ser é par ou impar(terminar)"
      ],
      "metadata": {
        "id": "cDgRuw_BjjhM"
      }
    },
    {
      "cell_type": "code",
      "source": [
        "nums = str(input(\"digite todos os 10 números (separe eles com /, o ultimo número não precisa ter / no final (ex:1/2/3...)):\"))\n",
        "dez =list(nums.split('/'))# ↑↑ EX: 1/2/3/4/5/6/7/8/9/10\n",
        "i = 0\n",
        "while i != 10:\n",
        "  if int(dez[i]) % 2:\n",
        "    print(f'{dez[i]} é impar')\n",
        "    i += 1\n",
        "  else:\n",
        "    print(f'{dez[i]} é par')\n",
        "    i += 1\n",
        "dez.clear()"
      ],
      "metadata": {
        "id": "k5kP2QDUjlcK",
        "colab": {
          "base_uri": "https://localhost:8080/"
        },
        "outputId": "a40beb2b-2b7c-4957-ba40-97073a515571"
      },
      "execution_count": null,
      "outputs": [
        {
          "output_type": "stream",
          "name": "stdout",
          "text": [
            "digite todos os 10 números (separe eles com /, o ultimo número não precisa ter / no final (ex:1/2/3...)):1/2/3/4/5/6/7/8/9/10\n",
            "1 é impar\n",
            "2 é par\n",
            "3 é impar\n",
            "4 é par\n",
            "5 é impar\n",
            "6 é par\n",
            "7 é impar\n",
            "8 é par\n",
            "9 é impar\n",
            "10 é par\n"
          ]
        }
      ]
    },
    {
      "cell_type": "markdown",
      "source": [
        "* 7) pedra papel tesoura"
      ],
      "metadata": {
        "id": "1yy_k6h-jlqc"
      }
    },
    {
      "cell_type": "code",
      "source": [
        "import random\n",
        "Valor = 0\n",
        "bot = random.randint(1, 3)\n",
        "Bot_esco = {1: 'tesoura', 2: 'papel', 3: 'pedra'}\n",
        "esco = input(\"Digite sua escolha (tesoura, papel ou pedra): \")\n",
        "bot_es = Bot_esco[bot]\n",
        "if esco in[\"TESOURA\", \"Tesoura\", \"tesoura\"]:\n",
        " Valor = 1\n",
        " if Valor == 1:\n",
        "  print(\"empate\")\n",
        " elif bot == 2:\n",
        "  print(\"vitória\")\n",
        " elif bot == 3:\n",
        "  print(\"derrota\")\n",
        " print(\"O bot escolheu: \", bot_es)\n",
        " print(\"Sua escolha foi:\", esco)\n",
        "elif esco in[\"PEDRA\", \"Pedra\", \"pedra\"]:\n",
        " Valor = 2\n",
        " if bot == 3:\n",
        "  print(\"empate\")\n",
        " elif bot == 1:\n",
        "  print(\"vitória\")\n",
        " elif bot == 2:\n",
        "  print(\"derrota\")\n",
        " print(\"O bot escolheu: \", bot_es)\n",
        " print(\"Sua escolha foi:\", esco)\n",
        "elif esco in[\"PAPEL\", \"Papel\", \"papel\"]:\n",
        " Valor = 3\n",
        " if Valor == 2:\n",
        "  print(\"empate\")\n",
        " elif bot == 3:\n",
        "  print(\"vitória\")\n",
        " elif bot == 1:\n",
        "  print(\"derrota\")\n",
        " print(\"O bot escolheu: \", bot_es)\n",
        " print(\"Sua escolha foi:\", esco)\n",
        "else:\n",
        "    print(\"Escolha inválida\")"
      ],
      "metadata": {
        "id": "b2KO5SW_jmgz",
        "colab": {
          "base_uri": "https://localhost:8080/"
        },
        "outputId": "d651b6ab-862a-4174-d0e4-e7bcaf7b3058"
      },
      "execution_count": null,
      "outputs": [
        {
          "output_type": "stream",
          "name": "stdout",
          "text": [
            "Digite sua escolha (tesoura, papel ou pedra): pedra\n",
            "vitória\n",
            "O bot escolheu:  tesoura\n",
            "Sua escolha foi: pedra\n"
          ]
        }
      ]
    },
    {
      "cell_type": "markdown",
      "metadata": {
        "id": "w2cMZ6DHsd_g"
      },
      "source": [
        "## Conteúdo 5: Funções e procedimentos"
      ]
    },
    {
      "cell_type": "markdown",
      "metadata": {
        "id": "WWvpTGhCskRC"
      },
      "source": [
        "1. funções\n",
        "2. procedimentos\n",
        "3. COMANDOS:\n",
        "* def\n",
        "* return"
      ]
    },
    {
      "cell_type": "code",
      "execution_count": null,
      "metadata": {
        "id": "EPYtS0hyBdyB",
        "colab": {
          "base_uri": "https://localhost:8080/"
        },
        "outputId": "1f015d0c-59f7-4fe2-d060-09defc58651a"
      },
      "outputs": [
        {
          "output_type": "stream",
          "name": "stdout",
          "text": [
            "isto é uma função\n"
          ]
        }
      ],
      "source": [
        "def funcao():\n",
        "  print(\"isto é uma função\")\n",
        "  return()\n",
        "funcao()"
      ]
    },
    {
      "cell_type": "code",
      "source": [
        "def teste(a3, a2, a1):\n",
        "  print(\"texto aleatorio:  \" + a3)\n",
        "  print(\"texto aleatorio:  \" + a2)\n",
        "  print(\"texto aleatorio:  \" + a1)\n",
        "teste(a3 = 'feijão', a2 = 'arroz', a1 = 'batata')"
      ],
      "metadata": {
        "colab": {
          "base_uri": "https://localhost:8080/"
        },
        "id": "1uarjAZV1Jk3",
        "outputId": "66cf41f4-e3b4-4c6e-d85a-8df08171e525"
      },
      "execution_count": null,
      "outputs": [
        {
          "output_type": "stream",
          "name": "stdout",
          "text": [
            "texto aleatorio:  feijão\n",
            "texto aleatorio:  arroz\n",
            "texto aleatorio:  batata\n"
          ]
        }
      ]
    }
  ],
  "metadata": {
    "colab": {
      "provenance": []
    },
    "kernelspec": {
      "display_name": "Python 3",
      "name": "python3"
    },
    "language_info": {
      "name": "python"
    }
  },
  "nbformat": 4,
  "nbformat_minor": 0
}